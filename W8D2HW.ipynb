{
 "cells": [
  {
   "cell_type": "markdown",
   "id": "910c27b6",
   "metadata": {},
   "source": [
    "<a id=\"oop\"></a>\n",
    "# Object Oriented Programming"
   ]
  },
  {
   "cell_type": "markdown",
   "id": "50c06538",
   "metadata": {},
   "source": [
    "<a id=\"hw\"></a>\n",
    "\n",
    "## Homework"
   ]
  },
  {
   "cell_type": "markdown",
   "id": "b45b6bd2",
   "metadata": {},
   "source": [
    "Design a flexible OOP system to describe characters in a RPG game\n",
    "\n",
    "There are 4 Unique Characters which use Different Types of Attacking mechanisms and Defending mechanisms.\n",
    "\n",
    "- Orges - fights with club and defends with shield\n",
    "- Peons - fights with club and defends with shield\n",
    "- Knights - fights with a Sword and defends with Armor\n",
    "- Archer - fights with Bow and Arrow and has only is tunic to protect them\n",
    "\n",
    "- All Characters can collect gold and this will always be the same for every new type of character\n",
    "\n",
    "At the end of this each character should be able to attack and defend and collect gold. If needed any character should be able to change his fighting style, say if a knight losing his sword, but finds a club he should be able to change his fighting mechanism to use the club\n",
    "\n",
    "<b>Hint: </b> To complete this assignment you will need multiple classes and interfaces and an Abstract class\n",
    "\n",
    "You can use our [Final Rubber Ducky Walkthrough](#rubber) example as a guide "
   ]
  },
  {
   "cell_type": "code",
   "execution_count": 60,
   "id": "34f42c98",
   "metadata": {},
   "outputs": [],
   "source": [
    "interface Striker {\n",
    "    attack(): void;\n",
    "}\n",
    "\n",
    "interface Aegis {\n",
    "    defend(): void;\n",
    "}\n",
    "\n",
    "class ClubAttack implements Striker {\n",
    "    attack() {\n",
    "        console.log(\"Swinging a club!\");\n",
    "    }\n",
    "}\n",
    "\n",
    "class SwordAttack implements Striker {\n",
    "    attack() {\n",
    "        console.log(\"Slashing with a sword!\");\n",
    "    }\n",
    "}\n",
    "\n",
    "class BowAndArrowAttack implements Striker {\n",
    "    attack() {\n",
    "        console.log(\"Shooting an arrow!\");\n",
    "    }\n",
    "}\n",
    "\n",
    "class ShieldDefense implements Aegis {\n",
    "    defend() {\n",
    "        console.log(\"Blocking with a shield!\");\n",
    "    }\n",
    "}\n",
    "\n",
    "class ArmorDefense implements Aegis {\n",
    "    defend() {\n",
    "        console.log(\"Deflecting the attack with armor!\");\n",
    "    }\n",
    "}\n",
    "\n",
    "class TunicDefense implements Aegis {\n",
    "    defend() {\n",
    "        console.log(\"The tunic offers little protection.\");\n",
    "    }\n",
    "}\n",
    "\n"
   ]
  }
 ],
 "metadata": {
  "kernelspec": {
   "display_name": "TypeScript",
   "language": "typescript",
   "name": "tslab"
  },
  "language_info": {
   "codemirror_mode": {
    "mode": "typescript",
    "name": "javascript",
    "typescript": true
   },
   "file_extension": ".ts",
   "mimetype": "text/typescript",
   "name": "typescript",
   "version": "3.7.2"
  }
 },
 "nbformat": 4,
 "nbformat_minor": 5
}
